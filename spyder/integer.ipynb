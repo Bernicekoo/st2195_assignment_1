{
 "cells": [
  {
   "cell_type": "markdown",
   "id": "6b6af5b4-d7c9-4a37-a700-8e23de6b8208",
   "metadata": {},
   "source": [
    "# Practice Assignment 1\n",
    "### Bernice Koo\n",
    "### 2025-10-17\n",
    "\n",
    "print 1 to 10"
   ]
  },
  {
   "cell_type": "code",
   "execution_count": 1,
   "id": "edde5693-1aa4-4452-ba37-42d0beb0ec33",
   "metadata": {},
   "outputs": [
    {
     "name": "stdout",
     "output_type": "stream",
     "text": [
      "1\n",
      "2\n",
      "3\n",
      "4\n",
      "5\n",
      "6\n",
      "7\n",
      "8\n",
      "9\n",
      "10\n"
     ]
    }
   ],
   "source": [
    "print (1)\n",
    "print (2)\n",
    "print (3)\n",
    "print (4)\n",
    "print (5)\n",
    "print (6)\n",
    "print (7)\n",
    "print (8)\n",
    "print (9)\n",
    "print (10)"
   ]
  },
  {
   "cell_type": "markdown",
   "id": "79e37f69-7274-4ea5-9435-ae9831fb96f8",
   "metadata": {},
   "source": [
    "## using for..loop"
   ]
  },
  {
   "cell_type": "code",
   "execution_count": 3,
   "id": "95e2307a-b150-46b2-896a-7d417e5f9c11",
   "metadata": {},
   "outputs": [
    {
     "name": "stdout",
     "output_type": "stream",
     "text": [
      "1\n",
      "2\n",
      "3\n",
      "4\n",
      "5\n",
      "6\n",
      "7\n",
      "8\n",
      "9\n",
      "10\n"
     ]
    }
   ],
   "source": [
    "for i in range (1,11):\n",
    "    print (i)"
   ]
  },
  {
   "cell_type": "code",
   "execution_count": null,
   "id": "1cf2c827-cd04-44e2-ba75-95e7a24cf24d",
   "metadata": {},
   "outputs": [],
   "source": []
  }
 ],
 "metadata": {
  "kernelspec": {
   "display_name": "Python [conda env:base] *",
   "language": "python",
   "name": "conda-base-py"
  },
  "language_info": {
   "codemirror_mode": {
    "name": "ipython",
    "version": 3
   },
   "file_extension": ".py",
   "mimetype": "text/x-python",
   "name": "python",
   "nbconvert_exporter": "python",
   "pygments_lexer": "ipython3",
   "version": "3.13.5"
  }
 },
 "nbformat": 4,
 "nbformat_minor": 5
}
